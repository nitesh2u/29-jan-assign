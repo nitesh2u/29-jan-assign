{
 "cells": [
  {
   "cell_type": "markdown",
   "id": "022698f9-e1bb-49de-aba3-9a7ea5aae3b6",
   "metadata": {},
   "source": [
    "1.Who developed Python Programming Language? "
   ]
  },
  {
   "cell_type": "markdown",
   "id": "e25befff-f1f9-4d82-a2e6-cfbbd1e044b6",
   "metadata": {},
   "source": [
    "Guido van Rossum"
   ]
  },
  {
   "cell_type": "markdown",
   "id": "c701b57e-e963-471e-bb89-bfa4adba88e7",
   "metadata": {},
   "source": [
    "2. Which type of Programming does Python support? "
   ]
  },
  {
   "cell_type": "markdown",
   "id": "0b1a609b-b01f-4717-a89d-89fa4219de9b",
   "metadata": {},
   "source": [
    "multiple programming paradigms."
   ]
  },
  {
   "cell_type": "markdown",
   "id": "812a6f91-5e2f-472d-acc8-f7c4db38e1d7",
   "metadata": {},
   "source": [
    "3.Is Python case sensitive when dealing with identifiers? "
   ]
  },
  {
   "cell_type": "markdown",
   "id": "d20207ac-c358-443f-a07e-0a48e0a316cc",
   "metadata": {},
   "source": [
    "yes it is"
   ]
  },
  {
   "cell_type": "markdown",
   "id": "ff0cc4b7-1eb8-43b6-81d0-afd5b2cc9dbf",
   "metadata": {},
   "source": [
    " 4.What is the correct extension of the Python file? "
   ]
  },
  {
   "cell_type": "markdown",
   "id": "949d35e6-6b51-4f5d-a83a-1092fa6d9a85",
   "metadata": {},
   "source": [
    "\n",
    "The correct extension for Python files is \".py\". When you save a Python script or program, it is conventionally saved with a .py extension."
   ]
  },
  {
   "cell_type": "markdown",
   "id": "d5d57b87-d9a1-4701-b232-c58f36262b59",
   "metadata": {},
   "source": [
    "5.. Is Python code compiled or interpreted? "
   ]
  },
  {
   "cell_type": "markdown",
   "id": "051b4d87-b60a-4ac8-82b4-f433f7e2a1b3",
   "metadata": {},
   "source": [
    "Python code is typically interpreted, although there is an intermediate step of compilation that occurs before execution. "
   ]
  },
  {
   "cell_type": "markdown",
   "id": "33c369cc-5c49-4b4e-b90e-00d3bec16b3c",
   "metadata": {},
   "source": [
    "6. Name a few blocks of code used to define in Python language? "
   ]
  },
  {
   "cell_type": "markdown",
   "id": "629f5037-8dc6-43bb-a43b-589525674d65",
   "metadata": {},
   "source": [
    "if-else: Used for conditional branching.\n",
    "for: Used for iterating over a sequence or iterable.\n",
    "while: Used for executing a block of code repeatedly until a condition is met.\n",
    "def: Used for defining functions.\n",
    "class: Used for defining classes and creating objects.\n",
    "try-except: Used for exception handling.\n",
    "with: Used for resource management and ensuring clean-up actions.\n",
    "import: Used for importing modules or packages.\n",
    "pass: Used as a placeholder for empty blocks of code.\n",
    "lambda: Used for creating anonymous functions."
   ]
  },
  {
   "cell_type": "markdown",
   "id": "d8440179-959e-41b1-8aaa-7cc14c9057b2",
   "metadata": {},
   "source": [
    "7. State a character used to give single-line comments in Python?"
   ]
  },
  {
   "cell_type": "markdown",
   "id": "1045299e-3225-4173-ae5a-e250059a5400",
   "metadata": {},
   "source": [
    "The character \"#\" is used to give single-line comments in Python."
   ]
  },
  {
   "cell_type": "markdown",
   "id": "3db74f3a-eb8e-4f2a-bc5d-41efa79520e0",
   "metadata": {},
   "source": [
    "8. Mention functions which can help us to find the version of python that we are currently working on?"
   ]
  },
  {
   "cell_type": "markdown",
   "id": "2ddc1bf5-6e67-4dbc-aa42-0da8a8517bee",
   "metadata": {},
   "source": [
    "1.sys.version: This function from the sys module returns a string containing the version number of the Python interpreter.\n",
    "2.platform.python_version(): This function from the platform module returns a string containing the Python version."
   ]
  },
  {
   "cell_type": "markdown",
   "id": "ff518258-34d9-41c7-9542-eb951bd76820",
   "metadata": {},
   "source": [
    "9. Python supports the creation of anonymous functions at runtime, using a construct called"
   ]
  },
  {
   "cell_type": "markdown",
   "id": "569ccedf-9c3a-4707-be27-c1ee3db6eb50",
   "metadata": {},
   "source": [
    "Python supports the creation of anonymous functions at runtime using a construct called \"lambda\" functions."
   ]
  },
  {
   "cell_type": "markdown",
   "id": "6d8affde-d3d4-46a8-95f5-d16624d0e4ba",
   "metadata": {},
   "source": [
    "10.. What does pip stand for python? "
   ]
  },
  {
   "cell_type": "markdown",
   "id": "d4757577-003d-4e6e-b32d-b21416d1a6b4",
   "metadata": {},
   "source": [
    "In Python, \"pip\" stands for \"pip installs packages\" or \"Pip Installs Python.\" Pip is a package management system used to install, manage, and uninstall Python packages or libraries. I"
   ]
  },
  {
   "cell_type": "markdown",
   "id": "dd88f911-ddf5-48fe-ac46-8bd4a1f1b09a",
   "metadata": {},
   "source": [
    "11. Mention a few built-in functions in python? \n"
   ]
  },
  {
   "cell_type": "markdown",
   "id": "66c27b49-2dbf-4dc2-8de2-7cc5cec452e4",
   "metadata": {},
   "source": [
    "print(): Used to output text or variables to the console.\n",
    "len(): Returns the length of an object, such as a string, list, or tuple.\n",
    "type(): Returns the type of an object.\n",
    "int(): Converts a value into an integer.\n",
    "float(): Converts a value into a floating-point number.\n",
    "str(): Converts a value into a string."
   ]
  },
  {
   "cell_type": "markdown",
   "id": "877fa894-3233-42b7-bd03-409f73a4c1c2",
   "metadata": {},
   "source": [
    "12. What is the maximum possible length of an identifier in Python? \n",
    "\n"
   ]
  },
  {
   "cell_type": "markdown",
   "id": "b4d3d866-32a7-40cc-90c3-7bac4af9a99e",
   "metadata": {},
   "source": [
    "e maximum possible length of an identifier in Python is not explicitly defined. However, Python imposes a practical limit based on the maximum size of a name in the programming language implementation. This limit is typically set to 255 characters"
   ]
  },
  {
   "cell_type": "markdown",
   "id": "ad424a1b-fbd3-44ee-8ad0-358d79d44f78",
   "metadata": {},
   "source": [
    "13. What are the benefits of using Python? \n"
   ]
  },
  {
   "cell_type": "markdown",
   "id": "adbe0ca3-1783-4d6e-a38c-20457036dc2e",
   "metadata": {},
   "source": [
    "Readability: Python code is known for its simplicity and readability, making it easier to understand and maintain.\n",
    "Large Standard Library: Python comes with a comprehensive standard library that provides ready-to-use modules and functions for various tasks.\n",
    "Portability: Python is a cross-platform language, meaning Python programs can run on different operating systems without requiring major modifications.\n",
    "Productivity: Python's focus on simplicity and ease of use allows developers to write code more quickly and efficiently, boosting productivity.\n",
    "Community and Ecosystem: Python has a vibrant and supportive community, with a vast ecosystem of libraries, frameworks, and tools available for various purposes.\n",
    "Integration Capabilities: Python can easily integrate with other languages like C, C++, and Java, allowing for seamless integration with existing codebases."
   ]
  },
  {
   "cell_type": "code",
   "execution_count": null,
   "id": "f0cc18fd-6817-49da-9fd0-2c234a6a28ce",
   "metadata": {},
   "outputs": [],
   "source": [
    "14.How is memory managed in Python?"
   ]
  },
  {
   "cell_type": "markdown",
   "id": "ce9eb440-cafc-45f6-a2fa-e63863f973e5",
   "metadata": {},
   "source": [
    "Memory management in Python is handled automatically through a combination of techniques, including reference counting and garbage collection. Python uses a reference counting mechanism to keep track of objects and their references."
   ]
  },
  {
   "cell_type": "code",
   "execution_count": 6,
   "id": "9433b6e4-0a08-483a-8082-39d2fd4b2161",
   "metadata": {},
   "outputs": [
    {
     "name": "stdout",
     "output_type": "stream",
     "text": [
      "Object `variables` not found.\n"
     ]
    }
   ],
   "source": [
    "\n",
    "How to install Python on Windows and set path variables?"
   ]
  },
  {
   "cell_type": "code",
   "execution_count": null,
   "id": "64fc33f4-579e-46b7-9d4a-01d9cf2d9939",
   "metadata": {},
   "outputs": [],
   "source": []
  },
  {
   "cell_type": "markdown",
   "id": "ece77a72-adf0-4b91-9e60-536bd4cc824d",
   "metadata": {},
   "source": [
    "16. Is indentation required in python?"
   ]
  },
  {
   "cell_type": "code",
   "execution_count": null,
   "id": "21d2d1e6-91dc-46ee-aeda-e0ff79d4628d",
   "metadata": {},
   "outputs": [],
   "source": []
  }
 ],
 "metadata": {
  "kernelspec": {
   "display_name": "Python 3 (ipykernel)",
   "language": "python",
   "name": "python3"
  },
  "language_info": {
   "codemirror_mode": {
    "name": "ipython",
    "version": 3
   },
   "file_extension": ".py",
   "mimetype": "text/x-python",
   "name": "python",
   "nbconvert_exporter": "python",
   "pygments_lexer": "ipython3",
   "version": "3.10.8"
  }
 },
 "nbformat": 4,
 "nbformat_minor": 5
}
